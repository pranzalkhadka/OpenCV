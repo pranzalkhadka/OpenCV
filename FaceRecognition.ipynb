{
 "cells": [
  {
   "cell_type": "code",
   "execution_count": 1,
   "metadata": {},
   "outputs": [],
   "source": [
    "import cv2 as cv\n",
    "import os\n",
    "import numpy as np"
   ]
  },
  {
   "cell_type": "code",
   "execution_count": 11,
   "metadata": {},
   "outputs": [],
   "source": [
    "people = ['Ben Afflek' , 'Elton John' , 'Jerry Seinfield' , 'Madonna' , 'Mindy Kaling']\n",
    "DIR = r'/home/pranjal-ubuntu/Downloads/OpenCV/train'"
   ]
  },
  {
   "cell_type": "code",
   "execution_count": 12,
   "metadata": {},
   "outputs": [],
   "source": [
    "haar_cascade = cv.CascadeClassifier('/home/pranjal-ubuntu/Downloads/OpenCV/haar_face.xml')\n",
    "features=[]\n",
    "labels=[]\n",
    "def create_train():\n",
    "    for person in people:\n",
    "        path=os.path.join(DIR,person)\n",
    "        label=people.index(person)\n",
    "        \n",
    "        for img in os.listdir(path):\n",
    "            img_path=os.path.join(path,img)\n",
    "            img_array = cv.imread(img_path)\n",
    "            gray = cv.cvtColor(img_array,cv.COLOR_BGR2GRAY)\n",
    "            #We first looped over every folder in train and then every image in each folder and\n",
    "            #converted to grayscale\n",
    "            \n",
    "            faces = haar_cascade.detectMultiScale(gray,scaleFactor=1.1,minNeighbors=4)\n",
    "            \n",
    "            for (x,y,w,h) in faces:\n",
    "                faces_roi=gray[y:y+h,x:x+w]\n",
    "                #roi stands for region of interest\n",
    "                features.append(faces_roi)\n",
    "                labels.append(label)\n",
    "                #label is basically index of the list . That is 0 for ben affleck and so on\n",
    "                "
   ]
  },
  {
   "cell_type": "code",
   "execution_count": 13,
   "metadata": {},
   "outputs": [],
   "source": [
    "create_train()"
   ]
  },
  {
   "cell_type": "code",
   "execution_count": 14,
   "metadata": {},
   "outputs": [
    {
     "name": "stdout",
     "output_type": "stream",
     "text": [
      "100\n",
      "100\n"
     ]
    }
   ],
   "source": [
    "print(len(features))\n",
    "print(len(labels))"
   ]
  },
  {
   "cell_type": "code",
   "execution_count": 15,
   "metadata": {},
   "outputs": [],
   "source": [
    "face_recognizer = cv.face.LBPHFaceRecognizer_create()"
   ]
  },
  {
   "cell_type": "code",
   "execution_count": 18,
   "metadata": {},
   "outputs": [],
   "source": [
    "features=np.array(features,dtype='object')\n",
    "labels=np.array(labels)"
   ]
  },
  {
   "cell_type": "code",
   "execution_count": 21,
   "metadata": {},
   "outputs": [],
   "source": [
    "face_recognizer.train(features,labels)\n",
    "face_recognizer.save('face_trained.yml')\n",
    "np.save('features.npy',features)\n",
    "np.save('labels.npy',labels)"
   ]
  },
  {
   "cell_type": "code",
   "execution_count": null,
   "metadata": {},
   "outputs": [],
   "source": []
  }
 ],
 "metadata": {
  "kernelspec": {
   "display_name": "Python 3",
   "language": "python",
   "name": "python3"
  },
  "language_info": {
   "codemirror_mode": {
    "name": "ipython",
    "version": 3
   },
   "file_extension": ".py",
   "mimetype": "text/x-python",
   "name": "python",
   "nbconvert_exporter": "python",
   "pygments_lexer": "ipython3",
   "version": "3.8.10"
  }
 },
 "nbformat": 4,
 "nbformat_minor": 4
}
